{
 "cells": [
  {
   "cell_type": "code",
   "execution_count": 2,
   "id": "dd1e2cdd-07c9-4435-bd1d-0de95854599b",
   "metadata": {},
   "outputs": [
    {
     "name": "stdout",
     "output_type": "stream",
     "text": [
      "Note: you may need to restart the kernel to use updated packages.\n"
     ]
    }
   ],
   "source": [
    "%pip install -qU langchain-groq langchain langchain-core\n"
   ]
  },
  {
   "cell_type": "code",
   "execution_count": 3,
   "id": "761fb540-d780-46bb-b617-8e2699cb1166",
   "metadata": {},
   "outputs": [],
   "source": [
    "from langchain_groq import ChatGroq\n",
    "\n",
    "llm = ChatGroq(\n",
    "    api_key=\"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\",\n",
    "    model=\"llama-3.3-70b-versatile\",\n",
    "    temperature=0,\n",
    "    max_tokens=None,\n",
    "    timeout=None,\n",
    "    max_retries=2,\n",
    "    # other params...\n",
    ")"
   ]
  },
  {
   "cell_type": "code",
   "execution_count": null,
   "id": "58f9d743-f38e-4a2e-a999-1b0e949f4818",
   "metadata": {},
   "outputs": [],
   "source": [
    "!pip install sentence-transformers chromadb pandas"
   ]
  },
  {
   "cell_type": "code",
   "execution_count": null,
   "id": "046f86cf-d171-4722-9a8d-3c3422eae74b",
   "metadata": {},
   "outputs": [],
   "source": [
    "# Example of how to use the initialized llm object\n",
    "prompt = \"What is the capital of France?\"\n",
    "response = llm.invoke(prompt)\n",
    "print(response)"
   ]
  },
  {
   "cell_type": "code",
   "execution_count": null,
   "id": "be6a8840-9ca3-4d51-92b4-9ae35be70cf7",
   "metadata": {},
   "outputs": [],
   "source": [
    "import os\n",
    "\n",
    "os.environ['GROQ_API_KEY'] = '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'"
   ]
  },
  {
   "cell_type": "code",
   "execution_count": null,
   "id": "30f99e99-93d1-4447-af74-c385f810b299",
   "metadata": {},
   "outputs": [],
   "source": [
    "from langchain_community.document_loaders import WebBaseLoader\n",
    "\n",
    "loader = WebBaseLoader(\"https://jobs.nike.com/job/R-33460\")\n",
    "page_data = loader.load().pop().page_content\n",
    "print(page_data)"
   ]
  },
  {
   "cell_type": "code",
   "execution_count": null,
   "id": "5bdade32-78e8-4f7a-b016-c39fc4463376",
   "metadata": {},
   "outputs": [],
   "source": [
    "%pip install -qU langchain-community"
   ]
  },
  {
   "cell_type": "code",
   "execution_count": null,
   "id": "3b91fea8-c525-4ca6-ae83-c0b7c729552a",
   "metadata": {},
   "outputs": [],
   "source": [
    "from langchain_community.document_loaders import WebBaseLoader\n",
    "\n",
    "loader = WebBaseLoader(\"https://jobs.nike.com/job/R-33460\")\n",
    "page_data = loader.load().pop().page_content\n",
    "print(page_data)"
   ]
  },
  {
   "cell_type": "code",
   "execution_count": null,
   "id": "ecef6986-eee3-4c6d-9401-4a2bce17aa26",
   "metadata": {},
   "outputs": [],
   "source": [
    "from langchain_core.prompts import PromptTemplate\n",
    "\n",
    "prompt_extract = PromptTemplate.from_template(\n",
    "        \"\"\"\n",
    "        ### SCRAPED TEXT FROM WEBSITE:\n",
    "        {page_data}\n",
    "        ### INSTRUCTION:\n",
    "        The scraped text is from the career's page of a website.\n",
    "        Your job is to extract the job postings and return them in JSON format containing the\n",
    "        following keys: `role`, `experience`, `skills` and `description`.\n",
    "        Only return the valid JSON.\n",
    "        ### VALID JSON (NO PREAMBLE):\n",
    "        \"\"\"\n",
    ")\n",
    "\n",
    "chain_extract = prompt_extract | llm\n",
    "res = chain_extract.invoke(input={'page_data':page_data})\n",
    "type(res.content)"
   ]
  },
  {
   "cell_type": "code",
   "execution_count": null,
   "id": "6a99aa0c-ae9f-47c8-8cac-2b6704c7f3da",
   "metadata": {},
   "outputs": [],
   "source": [
    "from langchain_core.output_parsers import JsonOutputParser\n",
    "\n",
    "json_parser = JsonOutputParser()\n",
    "json_res = json_parser.parse(res.content)\n",
    "json_res"
   ]
  },
  {
   "cell_type": "code",
   "execution_count": null,
   "id": "3b0e8a91-19dc-4658-a156-3ca9dcb02d0d",
   "metadata": {},
   "outputs": [],
   "source": [
    "type(json_res)"
   ]
  },
  {
   "cell_type": "code",
   "execution_count": null,
   "id": "b2f10fa8-1ac5-4248-bbfe-0803d9fed7f7",
   "metadata": {},
   "outputs": [],
   "source": [
    "import pandas as pd\n",
    "\n",
    "df = pd.read_csv(\"/content/my_portfolio.csv\")\n",
    "display(df)"
   ]
  },
  {
   "cell_type": "code",
   "execution_count": null,
   "id": "ca9f2068-32ab-48f0-bde9-e78486362da4",
   "metadata": {},
   "outputs": [],
   "source": [
    "%pip install -qU grpcio"
   ]
  },
  {
   "cell_type": "code",
   "execution_count": null,
   "id": "72113476-4133-40b5-960f-45297ad66a13",
   "metadata": {},
   "outputs": [],
   "source": [
    "import pandas as pd\n",
    "\n",
    "try:\n",
    "    df_portfolio = pd.read_csv('my_portfolio.csv')\n",
    "    print(\"Structure of 'my_portfolio.csv':\")\n",
    "    display(df_portfolio.head())\n",
    "    print(\"\\nInfo about 'my_portfolio.csv':\")\n",
    "    display(df_portfolio.info())\n",
    "except FileNotFoundError:\n",
    "    print(\"Error: 'my_portfolio.csv' not found. Please make sure the file exists.\")"
   ]
  },
  {
   "cell_type": "code",
   "execution_count": null,
   "id": "20689d71-e176-405f-ab8d-6511d6a802b7",
   "metadata": {},
   "outputs": [],
   "source": [
    "skills_list = [item['skills'] for item in json_res if 'skills' in item and item['skills'] is not None]\n",
    "\n",
    "if skills_list:\n",
    "    links = collection.query(query_texts=skills_list, n_results=2).get('metadatas', [])\n",
    "    print(links)\n",
    "else:\n",
    "    print(\"No skills extracted to query the collection.\")\n",
    "    links = [] # Initialize links as an empty list even if no skills are found"
   ]
  },
  {
   "cell_type": "code",
   "execution_count": null,
   "id": "73a4aabf-b038-4c08-9cf6-09829a71797d",
   "metadata": {},
   "outputs": [],
   "source": [
    "job = json_res[0]\n",
    "print(job['skills'])"
   ]
  },
  {
   "cell_type": "code",
   "execution_count": null,
   "id": "88a3e4f4-2f61-4a20-b88d-f1d0301567a3",
   "metadata": {},
   "outputs": [],
   "source": [
    "skills_list_of_lists = [item['skills'] for item in json_res if 'skills' in item and item['skills'] is not None]\n",
    "# Flatten the list of lists into a single list of skills\n",
    "skills_list = [skill for sublist in skills_list_of_lists for skill in sublist]\n",
    "\n",
    "\n",
    "if skills_list:\n",
    "    links = collection.query(query_texts=skills_list, n_results=2).get('metadatas', [])\n",
    "    print(links)\n",
    "else:\n",
    "    print(\"No skills extracted to query the collection.\")\n",
    "    links = [] # Initialize links as an empty list even if no skills are found"
   ]
  },
  {
   "cell_type": "code",
   "execution_count": null,
   "id": "caaec58f-d4cc-4e1c-b17d-77834aa399ab",
   "metadata": {},
   "outputs": [],
   "source": [
    "import uuid\n",
    "import chromadb\n",
    "import pandas as pd\n",
    "\n",
    "client = chromadb.Client()\n",
    "collection = client.get_or_create_collection(name=\"portfolio\")\n",
    "\n",
    "if 'df' not in locals():\n",
    "    try:\n",
    "        df = pd.read_csv(\"my_portfolio.csv\")\n",
    "    except FileNotFoundError:\n",
    "        print(\"Error: 'my_portfolio.csv' not found. Please make sure the file exists.\")\n",
    "        df = pd.DataFrame() # Create an empty DataFrame to avoid further errors\n",
    "\n",
    "if not collection.count() and not df.empty:\n",
    "    for _, row in df.iterrows():\n",
    "        collection.add(documents=row[\"Techstack\"],\n",
    "                       metadatas={\"links\": row[\"Links\"]},\n",
    "                       ids=[str(uuid.uuid4())])"
   ]
  },
  {
   "cell_type": "code",
   "execution_count": null,
   "id": "f58874fa-1e42-4bfb-9510-8ae72ebbf11d",
   "metadata": {},
   "outputs": [],
   "source": [
    "prompt_email = PromptTemplate.from_template(\n",
    "        \"\"\"\n",
    "        ### JOB DESCRIPTION:\n",
    "        {job_description}\n",
    "\n",
    "        ### INSTRUCTION:\n",
    "        You are Mohan, a business development executive at AtliQ. AtliQ is an AI & Software Consulting company dedicated to facilitating\n",
    "        the seamless integration of business processes through automated tools.\n",
    "        Over our experience, we have empowered numerous enterprises with tailored solutions, fostering scalability,\n",
    "        process optimization, cost reduction, and heightened overall efficiency.\n",
    "        Your job is to write a cold email to the client regarding the job mentioned above describing the capability of AtliQ\n",
    "        in fulfilling their needs.\n",
    "        Also add the most relevant ones from the following links to showcase Atliq's portfolio: {link_list}\n",
    "        Remember you are Mohan, BDE at AtliQ.\n",
    "        Do not provide a preamble.\n",
    "        ### EMAIL (NO PREAMBLE):\n",
    "\n",
    "        \"\"\"\n",
    "        )\n",
    "\n",
    "chain_email = prompt_email | llm\n",
    "res = chain_email.invoke({\"job_description\": str(job), \"link_list\": links})\n",
    "print(res.content)"
   ]
  }
 ],
 "metadata": {
  "kernelspec": {
   "display_name": "Python 3 (ipykernel)",
   "language": "python",
   "name": "python3"
  },
  "language_info": {
   "codemirror_mode": {
    "name": "ipython",
    "version": 3
   },
   "file_extension": ".py",
   "mimetype": "text/x-python",
   "name": "python",
   "nbconvert_exporter": "python",
   "pygments_lexer": "ipython3",
   "version": "3.13.5"
  }
 },
 "nbformat": 4,
 "nbformat_minor": 5
}
